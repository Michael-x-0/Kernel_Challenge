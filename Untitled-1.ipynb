{
 "cells": [
  {
   "cell_type": "code",
   "execution_count": 1,
   "metadata": {},
   "outputs": [],
   "source": [
    "import pickle\n",
    "import numpy as np\n",
    "import networkx as nx\n",
    "\n",
    "with open(\"data-challenge-kernel-methods-2022-2023/training_data.pkl\",\"rb\") as train_data, open(\"data-challenge-kernel-methods-2022-2023/test_data.pkl\",\"rb\") \\\n",
    "    as test_data, open(\"data-challenge-kernel-methods-2022-2023/training_labels.pkl\",\"rb\") as train_label:\n",
    "    train = pickle.load(train_data)\n",
    "    test = pickle.load(test_data)\n",
    "    label = pickle.load(train_label)"
   ]
  },
  {
   "cell_type": "code",
   "execution_count": 2,
   "metadata": {},
   "outputs": [
    {
     "data": {
      "text/plain": [
       "<networkx.classes.graph.Graph at 0x2ca20fb03a0>"
      ]
     },
     "execution_count": 2,
     "metadata": {},
     "output_type": "execute_result"
    }
   ],
   "source": [
    "np"
   ]
  },
  {
   "cell_type": "code",
   "execution_count": 29,
   "metadata": {},
   "outputs": [
    {
     "ename": "NetworkXError",
     "evalue": "G is not a connected graph. metric_closure is not defined.",
     "output_type": "error",
     "traceback": [
      "\u001b[1;31m---------------------------------------------------------------------------\u001b[0m",
      "\u001b[1;31mNetworkXError\u001b[0m                             Traceback (most recent call last)",
      "\u001b[1;32mc:\\Users\\fotso\\OneDrive\\Mes cours de l'X\\MVA\\Semestre 2\\kernel methods\\mva-kernel_data_challenge\\Untitled-1.ipynb Cell 3\u001b[0m in \u001b[0;36m<cell line: 1>\u001b[1;34m()\u001b[0m\n\u001b[1;32m----> <a href='vscode-notebook-cell:/c%3A/Users/fotso/OneDrive/Mes%20cours%20de%20l%27X/MVA/Semestre%202/kernel%20methods/mva-kernel_data_challenge/Untitled-1.ipynb#W2sZmlsZQ%3D%3D?line=0'>1</a>\u001b[0m nx\u001b[39m.\u001b[39;49malgorithms\u001b[39m.\u001b[39;49mapproximation\u001b[39m.\u001b[39;49mmetric_closure(train[\u001b[39m1\u001b[39;49m])\n",
      "File \u001b[1;32mc:\\Users\\fotso\\anaconda3\\lib\\site-packages\\networkx\\utils\\decorators.py:816\u001b[0m, in \u001b[0;36margmap.__call__.<locals>.func\u001b[1;34m(_argmap__wrapper, *args, **kwargs)\u001b[0m\n\u001b[0;32m    815\u001b[0m \u001b[39mdef\u001b[39;00m \u001b[39mfunc\u001b[39m(\u001b[39m*\u001b[39margs, __wrapper\u001b[39m=\u001b[39m\u001b[39mNone\u001b[39;00m, \u001b[39m*\u001b[39m\u001b[39m*\u001b[39mkwargs):\n\u001b[1;32m--> 816\u001b[0m     \u001b[39mreturn\u001b[39;00m argmap\u001b[39m.\u001b[39m_lazy_compile(__wrapper)(\u001b[39m*\u001b[39margs, \u001b[39m*\u001b[39m\u001b[39m*\u001b[39mkwargs)\n",
      "File \u001b[1;32m<class 'networkx.utils.decorators.argmap'> compilation 30:4\u001b[0m, in \u001b[0;36margmap_metric_closure_27\u001b[1;34m(G, weight)\u001b[0m\n\u001b[0;32m      2\u001b[0m \u001b[39mfrom\u001b[39;00m \u001b[39mos\u001b[39;00m\u001b[39m.\u001b[39;00m\u001b[39mpath\u001b[39;00m \u001b[39mimport\u001b[39;00m splitext\n\u001b[0;32m      3\u001b[0m \u001b[39mfrom\u001b[39;00m \u001b[39mcontextlib\u001b[39;00m \u001b[39mimport\u001b[39;00m contextmanager\n\u001b[1;32m----> 4\u001b[0m \u001b[39mfrom\u001b[39;00m \u001b[39mpathlib\u001b[39;00m \u001b[39mimport\u001b[39;00m Path\n\u001b[0;32m      6\u001b[0m \u001b[39mimport\u001b[39;00m \u001b[39mnetworkx\u001b[39;00m \u001b[39mas\u001b[39;00m \u001b[39mnx\u001b[39;00m\n\u001b[0;32m      7\u001b[0m \u001b[39mfrom\u001b[39;00m \u001b[39mnetworkx\u001b[39;00m\u001b[39m.\u001b[39;00m\u001b[39mutils\u001b[39;00m \u001b[39mimport\u001b[39;00m create_random_state, create_py_random_state\n",
      "File \u001b[1;32mc:\\Users\\fotso\\anaconda3\\lib\\site-packages\\networkx\\algorithms\\approximation\\steinertree.py:35\u001b[0m, in \u001b[0;36mmetric_closure\u001b[1;34m(G, weight)\u001b[0m\n\u001b[0;32m     33\u001b[0m \u001b[39mif\u001b[39;00m Gnodes \u001b[39m-\u001b[39m \u001b[39mset\u001b[39m(distance):\n\u001b[0;32m     34\u001b[0m     msg \u001b[39m=\u001b[39m \u001b[39m\"\u001b[39m\u001b[39mG is not a connected graph. metric_closure is not defined.\u001b[39m\u001b[39m\"\u001b[39m\n\u001b[1;32m---> 35\u001b[0m     \u001b[39mraise\u001b[39;00m nx\u001b[39m.\u001b[39mNetworkXError(msg)\n\u001b[0;32m     36\u001b[0m Gnodes\u001b[39m.\u001b[39mremove(u)\n\u001b[0;32m     37\u001b[0m \u001b[39mfor\u001b[39;00m v \u001b[39min\u001b[39;00m Gnodes:\n",
      "\u001b[1;31mNetworkXError\u001b[0m: G is not a connected graph. metric_closure is not defined."
     ]
    }
   ],
   "source": [
    "nx.algorithms.approximation.metric_closure(train[1])"
   ]
  },
  {
   "cell_type": "code",
   "execution_count": 2,
   "metadata": {},
   "outputs": [],
   "source": [
    "whole = train + test"
   ]
  },
  {
   "cell_type": "code",
   "execution_count": 3,
   "metadata": {},
   "outputs": [],
   "source": [
    "lent = [len(x.nodes) for x in whole]"
   ]
  },
  {
   "cell_type": "code",
   "execution_count": 5,
   "metadata": {},
   "outputs": [
    {
     "data": {
      "text/plain": [
       "(array([3.630e+03, 3.201e+03, 8.560e+02, 1.680e+02, 8.400e+01, 2.600e+01,\n",
       "        1.700e+01, 1.100e+01, 4.000e+00, 3.000e+00]),\n",
       " array([  2.,  15.,  28.,  41.,  54.,  67.,  80.,  93., 106., 119., 132.]),\n",
       " <BarContainer object of 10 artists>)"
      ]
     },
     "execution_count": 5,
     "metadata": {},
     "output_type": "execute_result"
    },
    {
     "data": {
      "image/png": "[encoded data removed]",
      "text/plain": [
       "<Figure size 432x288 with 1 Axes>"
      ]
     },
     "metadata": {
      "needs_background": "light"
     },
     "output_type": "display_data"
    }
   ],
   "source": [
    "import matplotlib.pyplot as plt\n",
    "\n",
    "plt.hist(lent)"
   ]
  },
  {
   "cell_type": "code",
   "execution_count": 39,
   "metadata": {},
   "outputs": [],
   "source": [
    "A[:2,:2] = 2*B[:3,:3]"
   ]
  },
  {
   "cell_type": "code",
   "execution_count": 40,
   "metadata": {},
   "outputs": [
    {
     "data": {
      "text/plain": [
       "array([[2, 0, 0],\n",
       "       [0, 2, 0],\n",
       "       [0, 0, 1]])"
      ]
     },
     "execution_count": 40,
     "metadata": {},
     "output_type": "execute_result"
    }
   ],
   "source": [
    "A"
   ]
  },
  {
   "cell_type": "code",
   "execution_count": 20,
   "metadata": {},
   "outputs": [
    {
     "name": "stderr",
     "output_type": "stream",
     "text": [
      "C:\\Users\\fotso\\AppData\\Local\\Temp\\ipykernel_61068\\2011339251.py:1: FutureWarning: adjacency_matrix will return a scipy.sparse array instead of a matrix in Networkx 3.0.\n",
      "  nx.adjacency_matrix(t1)\n"
     ]
    },
    {
     "data": {
      "text/plain": [
       "<16x16 sparse matrix of type '<class 'numpy.intc'>'\n",
       "\twith 32 stored elements in Compressed Sparse Row format>"
      ]
     },
     "execution_count": 20,
     "metadata": {},
     "output_type": "execute_result"
    }
   ],
   "source": [
    "nx.adjacency_matrix(t1)"
   ]
  },
  {
   "cell_type": "code",
   "execution_count": 36,
   "metadata": {},
   "outputs": [],
   "source": [
    "with open('kernel_4_6.pkl','rb') as f1, open('kernel_4_chpt.pkl','rb') as f2:\n",
    "    temp1 = pickle.load(f1)\n",
    "    temp2 = pickle.load(f2)\n",
    "    K1 = temp1['K']\n",
    "    K2 = temp2['K']\n",
    "    indices = temp1['indices']"
   ]
  },
  {
   "cell_type": "code",
   "execution_count": 37,
   "metadata": {},
   "outputs": [
    {
     "data": {
      "text/plain": [
       "195000"
      ]
     },
     "execution_count": 37,
     "metadata": {},
     "output_type": "execute_result"
    }
   ],
   "source": [
    "temp2['step']"
   ]
  },
  {
   "cell_type": "code",
   "execution_count": 38,
   "metadata": {},
   "outputs": [],
   "source": [
    "A = np.array([[1,2],[3,4]])"
   ]
  },
  {
   "cell_type": "code",
   "execution_count": 39,
   "metadata": {},
   "outputs": [
    {
     "data": {
      "text/plain": [
       "array([1, 4])"
      ]
     },
     "execution_count": 39,
     "metadata": {},
     "output_type": "execute_result"
    }
   ],
   "source": [
    "np.diag(A)"
   ]
  },
  {
   "cell_type": "code",
   "execution_count": 35,
   "metadata": {},
   "outputs": [
    {
     "data": {
      "text/plain": [
       "195000"
      ]
     },
     "execution_count": 35,
     "metadata": {},
     "output_type": "execute_result"
    }
   ],
   "source": [
    "step = len(indices) - len(K1) -1\n",
    "step"
   ]
  },
  {
   "cell_type": "code",
   "execution_count": 33,
   "metadata": {},
   "outputs": [],
   "source": [
    "with open('kernel_4_chpt.pkl','rb') as f:\n",
    "    pickle.dump({\n",
    "        \"K\":K2,\n",
    "        \"step\":step \n",
    "    },f)"
   ]
  },
  {
   "cell_type": "code",
   "execution_count": 178,
   "metadata": {},
   "outputs": [
    {
     "data": {
      "text/plain": [
       "{'a': [(0, 0), (0, 1)], 'b': [0, 1]}"
      ]
     },
     "execution_count": 178,
     "metadata": {},
     "output_type": "execute_result"
    }
   ],
   "source": [
    "with open(\"a.pkl\",\"rb\") as a:\n",
    "    temp = pickle.load(a)\n",
    "temp"
   ]
  },
  {
   "cell_type": "code",
   "execution_count": 149,
   "metadata": {},
   "outputs": [],
   "source": [
    "t1 = train[0]\n",
    "t2 = train[1]"
   ]
  },
  {
   "cell_type": "code",
   "execution_count": 118,
   "metadata": {},
   "outputs": [],
   "source": [
    "def get_label_nodes(G):\n",
    "    label = {}\n",
    "    for index,node in enumerate(G.nodes):\n",
    "        label[index] = G.nodes[node]['labels'][0]\n",
    "    return label\n",
    "\n",
    "def get_label_edges(G):\n",
    "    label = {}\n",
    "    for e in G.edges:\n",
    "        label[(e[0],e[1])] = G.edges[e]['labels'][0]\n",
    "    return label\n",
    "\n",
    "def join(A,B):\n",
    "    C = A.reshape(-1,1) - B.reshape(1,-1)\n",
    "    return (C==0).astype(int)\n",
    "\n",
    "    \n",
    "    "
   ]
  },
  {
   "cell_type": "code",
   "execution_count": null,
   "metadata": {},
   "outputs": [],
   "source": [
    "import os\n",
    "os.path.is"
   ]
  },
  {
   "cell_type": "code",
   "execution_count": 4,
   "metadata": {},
   "outputs": [],
   "source": [
    "def adj_mask(A,B):\n",
    "    C= A.reshape(-1,1)*B.reshape(1,-1) # to have (n*n)x(m*m) where A[i,j] = 1 if e_i exist and e_j exist\n",
    "    n = A.shape[0]\n",
    "    m = B.shape[0]\n",
    "    C = np.expand_dims(C,[1,3]).reshape(n,n,m,m)\n",
    "    C = np.transpose(C,(0,2,1,3)).reshape(n*m,n*m)\n",
    "    return C # return (n*m)x(n*m) where A[i,j] = 1 if (ei[0] -> ej[0] if an edge) as well as (ei[1] -> ej[1] if an edge\n",
    "\n",
    "def label_mask(A,B):\n",
    "    C = join(A,B) #get C such that C[i,j] = 1 iff ni == nj\n",
    "    return C.reshape(-1,1) * C.reshape(1,-1) # return (n*m)x(n*m) where A[i,j] = 1 if (ei[0] == ej[0]) and (ei[1] == ej[1])\n",
    "\n",
    "def edge_mask(A,B):\n",
    "    C = join(A,B)\n",
    "    n = A.shape[0]\n",
    "    m = B.shape[0]\n",
    "    C = np.expand_dims(C,[1,3]).reshape(n,n,m,m)\n",
    "    C = np.transpose(C,(0,2,1,3)).reshape(n*m,n*m)\n",
    "    return C\n"
   ]
  },
  {
   "cell_type": "code",
   "execution_count": 5,
   "metadata": {},
   "outputs": [],
   "source": [
    "from grakel import Graph"
   ]
  },
  {
   "cell_type": "code",
   "execution_count": 6,
   "metadata": {},
   "outputs": [],
   "source": [
    "A = np.array([[1,1,1],[1,1,0],[1,0,1]])\n",
    "B = np.array([[1,1],[1,1]])\n",
    "\n",
    "G1 = nx.from_numpy_array(A)\n",
    "G2 = nx.from_numpy_array(B)\n",
    "#C = join(A,B)\n",
    "label_A = np.array([1,1,2])\n",
    "label_B = np.array([1,2])\n",
    "\n",
    "l_edge_A = np.array([[0,2,1],[2,0,0],[1,0,0]])\n",
    "l_edge_B  = np.array([[0,1],[1,0]])\n"
   ]
  },
  {
   "cell_type": "code",
   "execution_count": 154,
   "metadata": {},
   "outputs": [
    {
     "name": "stderr",
     "output_type": "stream",
     "text": [
      "C:\\Users\\fotso\\AppData\\Local\\Temp\\ipykernel_71264\\3428710722.py:5: FutureWarning: adjacency_matrix will return a scipy.sparse array instead of a matrix in Networkx 3.0.\n",
      "  G1 = Graph(nx.adjacency_matrix(t1).toarray(),label_A)#, l_edge_A)\n",
      "C:\\Users\\fotso\\AppData\\Local\\Temp\\ipykernel_71264\\3428710722.py:6: FutureWarning: adjacency_matrix will return a scipy.sparse array instead of a matrix in Networkx 3.0.\n",
      "  G2 = Graph(nx.adjacency_matrix(t2).toarray(),label_B)#, l_edge_B)\n"
     ]
    }
   ],
   "source": [
    "label_A  = get_label_nodes(t1)\n",
    "label_B  = get_label_nodes(t2)\n",
    "l_edge_A = get_label_edges(t1)\n",
    "l_edge_B = get_label_edges(t2)\n",
    "G1 = Graph(nx.adjacency_matrix(t1).toarray(),label_A)#, l_edge_A)\n",
    "G2 = Graph(nx.adjacency_matrix(t2).toarray(),label_B)#, l_edge_B)"
   ]
  },
  {
   "cell_type": "code",
   "execution_count": 68,
   "metadata": {},
   "outputs": [],
   "source": [
    "adj = [[0, 1, 1], [1, 0, 0], [1, 0, 0]]\n",
    "node_labels = {0: 'a', 1: 'b', 2: 'a'}\n",
    "G = Graph(adj, node_labels=node_labels)"
   ]
  },
  {
   "cell_type": "code",
   "execution_count": 57,
   "metadata": {},
   "outputs": [],
   "source": [
    "X = walk.parse_input([G1,G2])"
   ]
  },
  {
   "cell_type": "code",
   "execution_count": 169,
   "metadata": {},
   "outputs": [],
   "source": [
    "from grakel import RandomWalkLabeled,RandomWalk\n",
    "\n",
    "walk = RandomWalkLabeled(n_jobs=12, lamda=0.1,normalize=False,p = 50)\n",
    "walk2 = RandomWalk(normalize=False)\n",
    "#walk.pairwise_operation(X[0],X[1])"
   ]
  },
  {
   "cell_type": "code",
   "execution_count": 176,
   "metadata": {},
   "outputs": [
    {
     "data": {
      "text/plain": [
       "array([[ 1.,  0.,  0.],\n",
       "       [ 0., -1., -1.],\n",
       "       [ 0.,  0.,  1.]])"
      ]
     },
     "execution_count": 176,
     "metadata": {},
     "output_type": "execute_result"
    }
   ],
   "source": [
    "A = np.eye(3)\n",
    "A[(1,1),(1,2)] = -1\n",
    "A"
   ]
  },
  {
   "cell_type": "code",
   "execution_count": 168,
   "metadata": {},
   "outputs": [
    {
     "data": {
      "text/plain": [
       "array([[256., 384.],\n",
       "       [384., 576.]])"
      ]
     },
     "execution_count": 168,
     "metadata": {},
     "output_type": "execute_result"
    }
   ],
   "source": [
    "walk.fit_transform([G1,G2])"
   ]
  },
  {
   "cell_type": "code",
   "execution_count": 170,
   "metadata": {},
   "outputs": [
    {
     "data": {
      "text/plain": [
       "array([[ 454.34296431,  716.74693643],\n",
       "       [ 716.74693643, 1140.09081956]])"
      ]
     },
     "execution_count": 170,
     "metadata": {},
     "output_type": "execute_result"
    }
   ],
   "source": [
    "walk2.fit_transform([G1,G2])"
   ]
  },
  {
   "cell_type": "code",
   "execution_count": 66,
   "metadata": {},
   "outputs": [],
   "source": [
    "lab_mask = label_mask(label_A,label_B)\n",
    "adj_mas = adj_mask(A,B)\n",
    "ed_mas = edge_mask(l_edge_A,l_edge_B)"
   ]
  },
  {
   "cell_type": "code",
   "execution_count": 140,
   "metadata": {},
   "outputs": [],
   "source": [
    "C = join(l_edge_A,l_edge_B)\n",
    "#C.reshape(3,3,2,2).transpose((0,2,1,3)).reshape(6,6)"
   ]
  },
  {
   "cell_type": "code",
   "execution_count": 141,
   "metadata": {},
   "outputs": [],
   "source": [
    "temp = sparse.csr_array(C)"
   ]
  },
  {
   "cell_type": "code",
   "execution_count": 90,
   "metadata": {},
   "outputs": [],
   "source": [
    "from scipy import sparse\n",
    "sp_tensor = sparse.csc_array(tensor_adj)"
   ]
  },
  {
   "cell_type": "code",
   "execution_count": 105,
   "metadata": {},
   "outputs": [
    {
     "data": {
      "text/plain": [
       "<36x1 sparse array of type '<class 'numpy.intc'>'\n",
       "\twith 5 stored elements in COOrdinate format>"
      ]
     },
     "execution_count": 105,
     "metadata": {},
     "output_type": "execute_result"
    }
   ],
   "source": [
    "sp_tensor.reshape(-1,1)"
   ]
  },
  {
   "cell_type": "code",
   "execution_count": 106,
   "metadata": {},
   "outputs": [
    {
     "data": {
      "text/plain": [
       "array([<6x6 sparse array of type '<class 'numpy.intc'>'\n",
       "       \twith 5 stored elements in Compressed Sparse Column format>],\n",
       "      dtype=object)"
      ]
     },
     "execution_count": 106,
     "metadata": {},
     "output_type": "execute_result"
    }
   ],
   "source": [
    "np.expand_dims(sp_tensor,0)"
   ]
  },
  {
   "cell_type": "code",
   "execution_count": 102,
   "metadata": {},
   "outputs": [],
   "source": [
    "from scipy.sparse.linalg import spsolve\n",
    "from scipy.sparse import identity\n",
    "I = identity(sp_tensor.shape[0]) -0.1*sp_tensor\n",
    "x =spsolve(I,np.ones(sp_tensor.shape[0]))"
   ]
  },
  {
   "cell_type": "code",
   "execution_count": 104,
   "metadata": {},
   "outputs": [
    {
     "data": {
      "text/plain": [
       "6.611111111111111"
      ]
     },
     "execution_count": 104,
     "metadata": {},
     "output_type": "execute_result"
    }
   ],
   "source": [
    "x.sum()"
   ]
  },
  {
   "cell_type": "code",
   "execution_count": 14,
   "metadata": {},
   "outputs": [
    {
     "name": "stdout",
     "output_type": "stream",
     "text": [
      "6000\n",
      "2000\n"
     ]
    }
   ],
   "source": [
    "print(len(train))\n",
    "print(len(test))"
   ]
  },
  {
   "cell_type": "code",
   "execution_count": 3,
   "metadata": {},
   "outputs": [],
   "source": [
    "from kernel import kernel_edge,kernel_node,kernel_len\n",
    "max_label_node = 50\n",
    "max_label_edge = 4\n",
    "K1 = kernel_edge(train,max_label_node,max_label_edge)\n",
    "K2 = kernel_node(train,max_label_node)\n",
    "K3 = kernel_len(train)"
   ]
  },
  {
   "attachments": {},
   "cell_type": "markdown",
   "metadata": {},
   "source": [
    "### Data visualisation"
   ]
  },
  {
   "cell_type": "code",
   "execution_count": 7,
   "metadata": {},
   "outputs": [
    {
     "data": {
      "text/plain": [
       "54.47985927777778"
      ]
     },
     "execution_count": 7,
     "metadata": {},
     "output_type": "execute_result"
    }
   ],
   "source": [
    "K1.mean()"
   ]
  },
  {
   "cell_type": "code",
   "execution_count": 10,
   "metadata": {},
   "outputs": [
    {
     "data": {
      "image/png": "[encoded data removed]",
      "text/plain": [
       "<Figure size 432x288 with 1 Axes>"
      ]
     },
     "metadata": {
      "needs_background": "light"
     },
     "output_type": "display_data"
    }
   ],
   "source": [
    "from dataviz import plot_PCA\n",
    "\n",
    "kpca = plot_PCA(K1,label)"
   ]
  },
  {
   "cell_type": "code",
   "execution_count": 492,
   "metadata": {},
   "outputs": [
    {
     "data": {
      "text/plain": [
       "array([1.15186528e+04, 5.78762451e+00])"
      ]
     },
     "execution_count": 492,
     "metadata": {},
     "output_type": "execute_result"
    }
   ],
   "source": [
    "from sklearn.decomposition import KernelPCA\n",
    "kpca = KernelPCA(n_components=2, kernel='precomputed', gamma=0.5)\n",
    "D_kpca = kpca.fit_transform(K**2+ K2@K1)\n",
    "kpca.eigenvalues_"
   ]
  },
  {
   "cell_type": "code",
   "execution_count": 493,
   "metadata": {},
   "outputs": [
    {
     "data": {
      "text/plain": [
       "<matplotlib.collections.PathCollection at 0x20d061be940>"
      ]
     },
     "execution_count": 493,
     "metadata": {},
     "output_type": "execute_result"
    },
    {
     "data": {
      "image/png": "[encoded data removed]",
      "text/plain": [
       "<Figure size 432x288 with 1 Axes>"
      ]
     },
     "metadata": {
      "needs_background": "light"
     },
     "output_type": "display_data"
    }
   ],
   "source": [
    "import matplotlib.pyplot as plt\n",
    "\n",
    "plt.scatter(D_kpca[:,0][label ==0],D_kpca[:,1][label ==0], s=3, c='r')\n",
    "plt.scatter(D_kpca[:,0][label ==1],D_kpca[:,1][label ==1], s=3, c='b')"
   ]
  },
  {
   "cell_type": "code",
   "execution_count": 140,
   "metadata": {},
   "outputs": [],
   "source": [
    "kpca2 = KernelPCA(n_components=2, kernel='rbf')\n",
    "D_kpca2 = kpca2.fit_transform(D_pca)"
   ]
  },
  {
   "cell_type": "code",
   "execution_count": 350,
   "metadata": {},
   "outputs": [],
   "source": [
    "lab1 = np.arange(len(K))[label ==1][2]\n",
    "lab0 = np.arange(len(K))[label ==0]\n",
    "lab00 = K[lab1,lab0].argsort()\n",
    "idx = lab0[lab00]\n"
   ]
  },
  {
   "cell_type": "code",
   "execution_count": 351,
   "metadata": {},
   "outputs": [
    {
     "data": {
      "image/png": "[encoded data removed]",
      "text/plain": [
       "<Figure size 432x288 with 1 Axes>"
      ]
     },
     "metadata": {},
     "output_type": "display_data"
    }
   ],
   "source": [
    "nx.draw_networkx(train[idx[-1]])"
   ]
  },
  {
   "cell_type": "code",
   "execution_count": 352,
   "metadata": {},
   "outputs": [
    {
     "data": {
      "image/png": "[encoded data removed]",
      "text/plain": [
       "<Figure size 432x288 with 1 Axes>"
      ]
     },
     "metadata": {},
     "output_type": "display_data"
    }
   ],
   "source": [
    "nx.draw_networkx(train[lab1])"
   ]
  },
  {
   "cell_type": "code",
   "execution_count": 141,
   "metadata": {},
   "outputs": [
    {
     "data": {
      "text/plain": [
       "<matplotlib.collections.PathCollection at 0x20d000d8f40>"
      ]
     },
     "execution_count": 141,
     "metadata": {},
     "output_type": "execute_result"
    },
    {
     "data": {
      "image/png": "[encoded data removed]",
      "text/plain": [
       "<Figure size 432x288 with 1 Axes>"
      ]
     },
     "metadata": {
      "needs_background": "light"
     },
     "output_type": "display_data"
    }
   ],
   "source": [
    "plt.scatter(D_kpca2[:,0][label ==0],D_kpca2[:,1][label ==0], s=3, c='r')\n",
    "plt.scatter(D_kpca2[:,0][label ==1],D_kpca2[:,1][label ==1], s=3, c='b')"
   ]
  },
  {
   "cell_type": "code",
   "execution_count": 30,
   "metadata": {},
   "outputs": [],
   "source": [
    "x = np.array([1,3,4])"
   ]
  },
  {
   "cell_type": "code",
   "execution_count": 36,
   "metadata": {},
   "outputs": [
    {
     "data": {
      "text/plain": [
       "array([1, 3])"
      ]
     },
     "execution_count": 36,
     "metadata": {},
     "output_type": "execute_result"
    }
   ],
   "source": [
    "x[:2]"
   ]
  },
  {
   "cell_type": "code",
   "execution_count": 29,
   "metadata": {},
   "outputs": [
    {
     "data": {
      "text/plain": [
       "555"
      ]
     },
     "execution_count": 29,
     "metadata": {},
     "output_type": "execute_result"
    }
   ],
   "source": [
    "np.sum(label ==1)"
   ]
  },
  {
   "cell_type": "code",
   "execution_count": null,
   "metadata": {},
   "outputs": [],
   "source": [
    "# Kernel svm\n",
    "from scipy import optimize\n",
    "\n",
    "def kernel_svm(K,y,lamb,x0):\n",
    "    y = 2*y - 1\n",
    "    n = y.shape[0]\n",
    "    alpha0 =  x0\n",
    "    def loss(alpha):\n",
    "        return -2*alpha.dot(y) +alpha.dot(K.dot(alpha))\n",
    "\n",
    "    def jac(alpha):\n",
    "        return -2*y +2*K.dot(alpha)\n",
    "\n",
    "    D = np.diag(y)\n",
    "    cons = ({\n",
    "        'type':'ineq',\n",
    "        'fun': lambda alpha: D.dot(alpha),\n",
    "        'jac': lambda alpha: D},\n",
    "        {\n",
    "        'type':'ineq',\n",
    "        'fun':lambda alpha: 1/(2*lamb*n) -D.dot(alpha),\n",
    "        'jac': lambda alpha: -D\n",
    "        })\n",
    "    opt = {'disp':False}\n",
    "    res = optimize.minimize(loss,alpha0,jac = jac, constraints=cons,method='SLSQP', options=opt)\n",
    "    return res\n"
   ]
  },
  {
   "cell_type": "code",
   "execution_count": 53,
   "metadata": {},
   "outputs": [],
   "source": [
    "K = [[kernel(A,B) for A in train_tensor] for B in train_tensor]"
   ]
  },
  {
   "cell_type": "code",
   "execution_count": 11,
   "metadata": {},
   "outputs": [],
   "source": [
    "D = kpca"
   ]
  },
  {
   "cell_type": "code",
   "execution_count": 13,
   "metadata": {},
   "outputs": [
    {
     "data": {
      "text/html": [
       "<style>#sk-container-id-1 {color: black;background-color: white;}#sk-container-id-1 pre{padding: 0;}#sk-container-id-1 div.sk-toggleable {background-color: white;}#sk-container-id-1 label.sk-toggleable__label {cursor: pointer;display: block;width: 100%;margin-bottom: 0;padding: 0.3em;box-sizing: border-box;text-align: center;}#sk-container-id-1 label.sk-toggleable__label-arrow:before {content: \"▸\";float: left;margin-right: 0.25em;color: #696969;}#sk-container-id-1 label.sk-toggleable__label-arrow:hover:before {color: black;}#sk-container-id-1 div.sk-estimator:hover label.sk-toggleable__label-arrow:before {color: black;}#sk-container-id-1 div.sk-toggleable__content {max-height: 0;max-width: 0;overflow: hidden;text-align: left;background-color: #f0f8ff;}#sk-container-id-1 div.sk-toggleable__content pre {margin: 0.2em;color: black;border-radius: 0.25em;background-color: #f0f8ff;}#sk-container-id-1 input.sk-toggleable__control:checked~div.sk-toggleable__content {max-height: 200px;max-width: 100%;overflow: auto;}#sk-container-id-1 input.sk-toggleable__control:checked~label.sk-toggleable__label-arrow:before {content: \"▾\";}#sk-container-id-1 div.sk-estimator input.sk-toggleable__control:checked~label.sk-toggleable__label {background-color: #d4ebff;}#sk-container-id-1 div.sk-label input.sk-toggleable__control:checked~label.sk-toggleable__label {background-color: #d4ebff;}#sk-container-id-1 input.sk-hidden--visually {border: 0;clip: rect(1px 1px 1px 1px);clip: rect(1px, 1px, 1px, 1px);height: 1px;margin: -1px;overflow: hidden;padding: 0;position: absolute;width: 1px;}#sk-container-id-1 div.sk-estimator {font-family: monospace;background-color: #f0f8ff;border: 1px dotted black;border-radius: 0.25em;box-sizing: border-box;margin-bottom: 0.5em;}#sk-container-id-1 div.sk-estimator:hover {background-color: #d4ebff;}#sk-container-id-1 div.sk-parallel-item::after {content: \"\";width: 100%;border-bottom: 1px solid gray;flex-grow: 1;}#sk-container-id-1 div.sk-label:hover label.sk-toggleable__label {background-color: #d4ebff;}#sk-container-id-1 div.sk-serial::before {content: \"\";position: absolute;border-left: 1px solid gray;box-sizing: border-box;top: 0;bottom: 0;left: 50%;z-index: 0;}#sk-container-id-1 div.sk-serial {display: flex;flex-direction: column;align-items: center;background-color: white;padding-right: 0.2em;padding-left: 0.2em;position: relative;}#sk-container-id-1 div.sk-item {position: relative;z-index: 1;}#sk-container-id-1 div.sk-parallel {display: flex;align-items: stretch;justify-content: center;background-color: white;position: relative;}#sk-container-id-1 div.sk-item::before, #sk-container-id-1 div.sk-parallel-item::before {content: \"\";position: absolute;border-left: 1px solid gray;box-sizing: border-box;top: 0;bottom: 0;left: 50%;z-index: -1;}#sk-container-id-1 div.sk-parallel-item {display: flex;flex-direction: column;z-index: 1;position: relative;background-color: white;}#sk-container-id-1 div.sk-parallel-item:first-child::after {align-self: flex-end;width: 50%;}#sk-container-id-1 div.sk-parallel-item:last-child::after {align-self: flex-start;width: 50%;}#sk-container-id-1 div.sk-parallel-item:only-child::after {width: 0;}#sk-container-id-1 div.sk-dashed-wrapped {border: 1px dashed gray;margin: 0 0.4em 0.5em 0.4em;box-sizing: border-box;padding-bottom: 0.4em;background-color: white;}#sk-container-id-1 div.sk-label label {font-family: monospace;font-weight: bold;display: inline-block;line-height: 1.2em;}#sk-container-id-1 div.sk-label-container {text-align: center;}#sk-container-id-1 div.sk-container {/* jupyter's `normalize.less` sets `[hidden] { display: none; }` but bootstrap.min.css set `[hidden] { display: none !important; }` so we also need the `!important` here to be able to override the default hidden behavior on the sphinx rendered scikit-learn.org. See: https://github.com/scikit-learn/scikit-learn/issues/21755 */display: inline-block !important;position: relative;}#sk-container-id-1 div.sk-text-repr-fallback {display: none;}</style><div id=\"sk-container-id-1\" class=\"sk-top-container\"><div class=\"sk-text-repr-fallback\"><pre>SVC(C=1, class_weight=&#x27;balanced&#x27;, kernel=&#x27;precomputed&#x27;)</pre><b>In a Jupyter environment, please rerun this cell to show the HTML representation or trust the notebook. <br />On GitHub, the HTML representation is unable to render, please try loading this page with nbviewer.org.</b></div><div class=\"sk-container\" hidden><div class=\"sk-item\"><div class=\"sk-estimator sk-toggleable\"><input class=\"sk-toggleable__control sk-hidden--visually\" id=\"sk-estimator-id-1\" type=\"checkbox\" checked><label for=\"sk-estimator-id-1\" class=\"sk-toggleable__label sk-toggleable__label-arrow\">SVC</label><div class=\"sk-toggleable__content\"><pre>SVC(C=1, class_weight=&#x27;balanced&#x27;, kernel=&#x27;precomputed&#x27;)</pre></div></div></div></div></div>"
      ],
      "text/plain": [
       "SVC(C=1, class_weight='balanced', kernel='precomputed')"
      ]
     },
     "execution_count": 13,
     "metadata": {},
     "output_type": "execute_result"
    }
   ],
   "source": [
    "#sklearn\n",
    "from sklearn.svm import SVC\n",
    "from sklearn.linear_model import LogisticRegression\n",
    "svm = SVC(C = 1,kernel='precomputed',class_weight='balanced')\n",
    "svm.fit(K1,label)\n",
    "#lr.fit(train_tensor,label)"
   ]
  },
  {
   "cell_type": "code",
   "execution_count": 14,
   "metadata": {},
   "outputs": [],
   "source": [
    "from model import classifier\n",
    "\n",
    "cl = classifier('svm',class_weight = 'balanced')"
   ]
  },
  {
   "cell_type": "code",
   "execution_count": 16,
   "metadata": {},
   "outputs": [],
   "source": [
    "cl.train(K1,label)"
   ]
  },
  {
   "cell_type": "code",
   "execution_count": 19,
   "metadata": {},
   "outputs": [
    {
     "ename": "AttributeError",
     "evalue": "'SVC' object has no attribute 'train'",
     "output_type": "error",
     "traceback": [
      "\u001b[1;31m---------------------------------------------------------------------------\u001b[0m",
      "\u001b[1;31mAttributeError\u001b[0m                            Traceback (most recent call last)",
      "\u001b[1;32mc:\\Users\\fotso\\OneDrive\\Mes cours de l'X\\MVA\\Semestre 2\\kernel methods\\data challenge\\Untitled-1.ipynb Cell 20\u001b[0m in \u001b[0;36m<cell line: 1>\u001b[1;34m()\u001b[0m\n\u001b[1;32m----> <a href='vscode-notebook-cell:/c%3A/Users/fotso/OneDrive/Mes%20cours%20de%20l%27X/MVA/Semestre%202/kernel%20methods/data%20challenge/Untitled-1.ipynb#Y103sZmlsZQ%3D%3D?line=0'>1</a>\u001b[0m score \u001b[39m=\u001b[39m cl\u001b[39m.\u001b[39;49mcross_val(K1, label,\u001b[39m0.8\u001b[39;49m, cv \u001b[39m=\u001b[39;49m \u001b[39m3\u001b[39;49m, balanced\u001b[39m=\u001b[39;49m\u001b[39mFalse\u001b[39;49;00m)\n",
      "File \u001b[1;32mc:\\Users\\fotso\\OneDrive\\Mes cours de l'X\\MVA\\Semestre 2\\kernel methods\\data challenge\\model.py:60\u001b[0m, in \u001b[0;36mcross_val\u001b[1;34m(self, K, label, ratio, cv, balanced)\u001b[0m\n\u001b[0;32m     58\u001b[0m         K_train = K[train_idx,train_idx]\n\u001b[0;32m     59\u001b[0m         K_val = K[val_idx,val_idx]\n\u001b[1;32m---> 60\u001b[0m         self.model.train(K_train,label[train_idx])\n\u001b[0;32m     61\u001b[0m         score.append(self.auc_sorce(K_val, label[val_idx]))\n\u001b[0;32m     62\u001b[0m self.model = initial_model\n",
      "\u001b[1;31mAttributeError\u001b[0m: 'SVC' object has no attribute 'train'"
     ]
    }
   ],
   "source": [
    "score = cl.cross_val(K1, label,0.8, cv = 3, balanced=False)"
   ]
  },
  {
   "cell_type": "code",
   "execution_count": 199,
   "metadata": {},
   "outputs": [
    {
     "data": {
      "text/plain": [
       "2498"
      ]
     },
     "execution_count": 199,
     "metadata": {},
     "output_type": "execute_result"
    }
   ],
   "source": [
    "pred_svm = svm.decision_function(D)\n",
    "np.sum(pred_svm >= 0)"
   ]
  },
  {
   "cell_type": "code",
   "execution_count": 505,
   "metadata": {},
   "outputs": [
    {
     "data": {
      "text/plain": [
       "<AxesSubplot:>"
      ]
     },
     "execution_count": 505,
     "metadata": {},
     "output_type": "execute_result"
    },
    {
     "data": {
      "image/png": "[encoded data removed]",
      "text/plain": [
       "<Figure size 432x288 with 1 Axes>"
      ]
     },
     "metadata": {
      "needs_background": "light"
     },
     "output_type": "display_data"
    }
   ],
   "source": [
    "import seaborn as sns\n",
    "from matplotlib.colors import ListedColormap\n",
    "\n",
    "h = 0.5\n",
    "x_min, x_max = D[:, 0].min() - 1, D[:, 0].max() + 1\n",
    "y_min, y_max = D[:, 1].min() - 1, D[:, 1].max() + 1\n",
    "xx, yy = np.meshgrid(np.arange(x_min, x_max, h),np.arange(y_min, y_max, h))\n",
    "Z = svm.predict(np.c_[xx.ravel(),yy.ravel()])\n",
    "Z = Z.reshape(xx.shape)\n",
    "plt.figure()\n",
    "\n",
    "cmap_light = ListedColormap(['orange', 'cyan'])\n",
    "cmap_bold = ['darkorange', 'darkblue']\n",
    "\n",
    "plt.contourf(xx,yy,Z,  cmap=cmap_light)\n",
    "sns.scatterplot(x=D[:, 0], y=D[:, 1],hue=label,\n",
    "palette=cmap_bold, alpha=1.0, edgecolor=\"black\")\n",
    "\n"
   ]
  },
  {
   "cell_type": "code",
   "execution_count": 201,
   "metadata": {},
   "outputs": [
    {
     "data": {
      "text/plain": [
       "0.8121347794075067"
      ]
     },
     "execution_count": 201,
     "metadata": {},
     "output_type": "execute_result"
    }
   ],
   "source": [
    "from sklearn import metrics\n",
    "score = metrics.roc_auc_score(label,pred_svm)\n",
    "score"
   ]
  },
  {
   "cell_type": "code",
   "execution_count": 70,
   "metadata": {},
   "outputs": [],
   "source": [
    "pred_svm = svm.decision_function(test_tensor)"
   ]
  },
  {
   "cell_type": "code",
   "execution_count": 71,
   "metadata": {},
   "outputs": [
    {
     "data": {
      "text/plain": [
       "767"
      ]
     },
     "execution_count": 71,
     "metadata": {},
     "output_type": "execute_result"
    }
   ],
   "source": [
    "np.sum(pred_svm>=0.5)"
   ]
  },
  {
   "cell_type": "code",
   "execution_count": 72,
   "metadata": {},
   "outputs": [],
   "source": [
    "import pandas as pd\n",
    "\n",
    "df = pd.DataFrame({'Id':np.arange(1,len(test)+1),'Predicted':pred_svm})\n",
    "df.to_csv('sub_svm_double_kernel.csv',index = None)"
   ]
  },
  {
   "cell_type": "code",
   "execution_count": 503,
   "metadata": {},
   "outputs": [],
   "source": [
    "from sklearn.model_selection import KFold\n",
    "\n",
    "kf = KFold(n_splits=3)\n",
    "idx = kf.split(label)"
   ]
  },
  {
   "cell_type": "code",
   "execution_count": 43,
   "metadata": {},
   "outputs": [
    {
     "data": {
      "text/plain": [
       "array([   0,    1,    2, ..., 5997, 5998, 5999], dtype=int64)"
      ]
     },
     "execution_count": 43,
     "metadata": {},
     "output_type": "execute_result"
    }
   ],
   "source": [
    "np.where(label==0)[0]"
   ]
  },
  {
   "cell_type": "code",
   "execution_count": 504,
   "metadata": {},
   "outputs": [
    {
     "name": "stdout",
     "output_type": "stream",
     "text": [
      "(array([2000, 2001, 2002, ..., 5997, 5998, 5999]), array([   0,    1,    2, ..., 1997, 1998, 1999]))\n",
      "(6000,)\n",
      "(array([   0,    1,    2, ..., 5997, 5998, 5999]), array([2000, 2001, 2002, ..., 3997, 3998, 3999]))\n",
      "(6000,)\n",
      "(array([   0,    1,    2, ..., 3997, 3998, 3999]), array([4000, 4001, 4002, ..., 5997, 5998, 5999]))\n",
      "(6000,)\n"
     ]
    }
   ],
   "source": [
    "for t in idx:\n",
    "    print(t)\n",
    "    print(np.hstack([t[0],t[1]]).shape)"
   ]
  },
  {
   "cell_type": "code",
   "execution_count": null,
   "metadata": {},
   "outputs": [
    {
     "data": {
      "text/plain": [
       "array([0.55096419, 5.40540541])"
      ]
     },
     "execution_count": 57,
     "metadata": {},
     "output_type": "execute_result"
    }
   ],
   "source": [
    "label.shape[0]/(2*np.bincount(label))"
   ]
  },
  {
   "cell_type": "code",
   "execution_count": 40,
   "metadata": {},
   "outputs": [
    {
     "name": "stdout",
     "output_type": "stream",
     "text": [
      "1\n",
      "2\n"
     ]
    }
   ],
   "source": [
    "t = {'a':1,'b':2}\n",
    "for x in t:\n",
    "    print(t[x])"
   ]
  },
  {
   "cell_type": "code",
   "execution_count": null,
   "metadata": {},
   "outputs": [
    {
     "data": {
      "text/plain": [
       "2"
      ]
     },
     "execution_count": 45,
     "metadata": {},
     "output_type": "execute_result"
    }
   ],
   "source": [
    "np.sum(pred==1)"
   ]
  },
  {
   "cell_type": "code",
   "execution_count": null,
   "metadata": {},
   "outputs": [
    {
     "data": {
      "text/plain": [
       "555"
      ]
     },
     "execution_count": 36,
     "metadata": {},
     "output_type": "execute_result"
    }
   ],
   "source": [
    "np.sum(label==1)"
   ]
  },
  {
   "cell_type": "code",
   "execution_count": null,
   "metadata": {},
   "outputs": [],
   "source": [
    "alpha = kernel_svm(K,label,0.5,test).x"
   ]
  },
  {
   "cell_type": "code",
   "execution_count": null,
   "metadata": {},
   "outputs": [],
   "source": [
    "alpha = np.loadtxt('alpha0')"
   ]
  },
  {
   "cell_type": "code",
   "execution_count": 21,
   "metadata": {},
   "outputs": [],
   "source": [
    "x = 1+2j"
   ]
  },
  {
   "cell_type": "code",
   "execution_count": 28,
   "metadata": {},
   "outputs": [
    {
     "data": {
      "text/plain": [
       "2.0"
      ]
     },
     "execution_count": 28,
     "metadata": {},
     "output_type": "execute_result"
    }
   ],
   "source": [
    "np.imag(x)"
   ]
  },
  {
   "cell_type": "code",
   "execution_count": null,
   "metadata": {},
   "outputs": [],
   "source": [
    "test_tensor = [graph_to_tensor(G, max_label_node, max_label_edge) for G in  test]\n",
    "K_test = np.array([[kernel(A,B) for B in train_tensor] for A in test_tensor])"
   ]
  },
  {
   "cell_type": "code",
   "execution_count": null,
   "metadata": {},
   "outputs": [],
   "source": [
    "def predict(alpha,K, tr):\n",
    "    return (K.dot(alpha) >= tr).astype(int)"
   ]
  },
  {
   "cell_type": "code",
   "execution_count": null,
   "metadata": {},
   "outputs": [],
   "source": [
    "pred = predict(alpha,K,0)"
   ]
  },
  {
   "cell_type": "code",
   "execution_count": null,
   "metadata": {},
   "outputs": [
    {
     "data": {
      "text/plain": [
       "555"
      ]
     },
     "execution_count": 24,
     "metadata": {},
     "output_type": "execute_result"
    }
   ],
   "source": [
    "np.sum(label == 1)"
   ]
  },
  {
   "cell_type": "code",
   "execution_count": null,
   "metadata": {},
   "outputs": [
    {
     "data": {
      "text/plain": [
       "1266"
      ]
     },
     "execution_count": 26,
     "metadata": {},
     "output_type": "execute_result"
    }
   ],
   "source": [
    "np.sum(pred == 0)"
   ]
  },
  {
   "cell_type": "code",
   "execution_count": null,
   "metadata": {},
   "outputs": [],
   "source": [
    "import sklearn.metrics.a"
   ]
  },
  {
   "cell_type": "code",
   "execution_count": null,
   "metadata": {},
   "outputs": [],
   "source": [
    "def ROC(logit, true_label):\n",
    "    treshold = np.linspace(-1,1,100)\n",
    "    for tr in treshold:\n",
    "        predicted_1 = logit>tr\n",
    "        predicted_0 = logit<tr\n",
    "        TP = np.sum(predicted_1 == true_label)\n",
    "        FP = np.sum(predicted_1) - TP\n",
    "        TN = np.sum(predicted_0 == 1-true_label)\n",
    "        FN = np.sum(predicted_0) - TN\n",
    "         "
   ]
  }
 ],
 "metadata": {
  "kernelspec": {
   "display_name": "base",
   "language": "python",
   "name": "python3"
  },
  "language_info": {
   "codemirror_mode": {
    "name": "ipython",
    "version": 3
   },
   "file_extension": ".py",
   "mimetype": "text/x-python",
   "name": "python",
   "nbconvert_exporter": "python",
   "pygments_lexer": "ipython3",
   "version": "3.9.12"
  },
  "orig_nbformat": 4,
  "vscode": {
   "interpreter": {
    "hash": "1b761e512e43f4a2fba53098797d5b056ccf3dbcc0844288b9469d90e5ec69fe"
   }
  }
 },
 "nbformat": 4,
 "nbformat_minor": 2
}
